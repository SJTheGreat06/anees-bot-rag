{
 "cells": [
  {
   "cell_type": "markdown",
   "metadata": {},
   "source": [
    "# Reading TXT File"
   ]
  },
  {
   "cell_type": "code",
   "execution_count": 2,
   "metadata": {},
   "outputs": [],
   "source": [
    "# Text based data Ingestion\n",
    "from langchain_community.document_loaders import TextLoader\n",
    "loader = TextLoader(\"data/anees_dataset.txt\")\n",
    "text_docs = loader.load()"
   ]
  },
  {
   "cell_type": "markdown",
   "metadata": {},
   "source": [
    "# Scraping Anees School Website"
   ]
  },
  {
   "cell_type": "code",
   "execution_count": 3,
   "metadata": {},
   "outputs": [
    {
     "name": "stderr",
     "output_type": "stream",
     "text": [
      "USER_AGENT environment variable not set, consider setting it to identify your requests.\n"
     ]
    }
   ],
   "source": [
    "# Web Based Data Ingestion\n",
    "from langchain_community.document_loaders import WebBaseLoader\n",
    "\n",
    "# Load, chunk, and Index the contents of a Webpage\n",
    "loader = WebBaseLoader(\n",
    "    [\"https://aneesschool.com/life-at-anees/\", \"https://aneesschool.com/aims-objectives/\", \"https://aneesschool.com/vision-mission/\", \"https://aneesschool.com/academic-building/\", \"https://aneesschool.com/anees-core-team/\", \"https://aneesschool.com/message-from-ceo-cum-chairman/\", \"https://aneesschool.com/the-formative-years/\", \"https://aneesschool.com/the-junior-school/\", \"https://aneesschool.com/the-middle-school/\", \"https://aneesschool.com/the-senior-school/\", \"https://aneesschool.com/personality-development/\", \"https://aneesschool.com/creative-skills/\", \"https://aneesschool.com/important-tips/\", \"https://aneesschool.com/student-participation/\", \"https://aneesschool.com/digital-campus/\", \"https://aneesschool.com/health-hygiene/\", \"https://aneesschool.com/transport-safety/\", \"https://aneesschool.com/auditorium/\", \"https://aneesschool.com/computer-lab/\", \"https://aneesschool.com/library/\", \"https://aneesschool.com/art-room/\", \"https://aneesschool.com/science-laboratories/\", \"https://aneesschool.com/sports/\", \"https://aneesschool.com/smart-spacious-classes/\"]\n",
    ")\n",
    "web_documents = loader.load()"
   ]
  },
  {
   "cell_type": "markdown",
   "metadata": {},
   "source": [
    "# Loading PDF and its related data"
   ]
  },
  {
   "cell_type": "code",
   "execution_count": 4,
   "metadata": {},
   "outputs": [],
   "source": [
    "# PDF Data Ingestion\n",
    "from langchain_community.document_loaders import PyPDFLoader\n",
    "loader = PyPDFLoader(\"data/Prospectus.pdf\")\n",
    "docs = loader.load()"
   ]
  },
  {
   "cell_type": "markdown",
   "metadata": {},
   "source": [
    "# Chuncking all the data to meet the context length of the LLM Models"
   ]
  },
  {
   "cell_type": "code",
   "execution_count": 5,
   "metadata": {},
   "outputs": [],
   "source": [
    "# Converting Text to chuncks\n",
    "from langchain.text_splitter import RecursiveCharacterTextSplitter\n",
    "text_splitter = RecursiveCharacterTextSplitter(chunk_size = 1000, chunk_overlap = 200)\n",
    "text = text_splitter.split_documents(text_docs)"
   ]
  },
  {
   "cell_type": "code",
   "execution_count": 6,
   "metadata": {},
   "outputs": [],
   "source": [
    "# Converting PDF text to chuncks\n",
    "from langchain_text_splitters import RecursiveCharacterTextSplitter\n",
    "text_splitter = RecursiveCharacterTextSplitter(chunk_size = 1000, chunk_overlap = 200)\n",
    "documents = text_splitter.split_documents(docs)"
   ]
  },
  {
   "cell_type": "code",
   "execution_count": 7,
   "metadata": {},
   "outputs": [],
   "source": [
    "# Converting Web text to chuncks\n",
    "from langchain_text_splitters import RecursiveCharacterTextSplitter\n",
    "web_splitter = RecursiveCharacterTextSplitter(chunk_size = 1000, chunk_overlap = 200)\n",
    "web = web_splitter.split_documents(web_documents)"
   ]
  },
  {
   "cell_type": "code",
   "execution_count": 8,
   "metadata": {},
   "outputs": [],
   "source": [
    "from langchain_community.vectorstores import FAISS\n",
    "from langchain_ollama import OllamaEmbeddings\n",
    "dataBase1 = FAISS.from_documents(documents, OllamaEmbeddings(model=\"nomic-embed-text\"))\n",
    "dataBase2 = FAISS.from_documents(web, OllamaEmbeddings(model=\"nomic-embed-text\"))\n",
    "dataBase3 = FAISS.from_documents(text, OllamaEmbeddings(model=\"nomic-embed-text\"))"
   ]
  },
  {
   "cell_type": "code",
   "execution_count": 9,
   "metadata": {},
   "outputs": [
    {
     "data": {
      "text/plain": [
       "'Here is our current fee structure: Nursery - 4200, LKG - 4200, UKG - 4250, First - 4400, Second - 4450, Third - 4500, Fourth - 4550, Fifth - 4600, Sixth - 4700, Seventh - 4800, Eighth - 4900, Ninth - 5000, Tenth - 5100, +1 & +2 Arts/Commerce - 5000, +1 & +2 Non-Med/Med - 5750. Please note that these fees are subject to change with prior notice. Additional charges may apply for examinations, extracurricular activities, and optional facilities.\\n\\nOur fee structure is as follows: Nursery - 4200, LKG - 4200, UKG - 4250, First - 4400, Second - 4450, Third - 4500, Fourth - 4550, Fifth - 4600, Sixth - 4700, Seventh - 4800, Eighth - 4900, Ninth - 5000, Tenth - 5100, +1 & +2 Arts/Commerce - 5000, +1 & +2 Non-Med/Med - 5750. Please note that fees are subject to revision, and additional charges may apply for examinations, extracurricular activities, and optional facilities.'"
      ]
     },
     "execution_count": 9,
     "metadata": {},
     "output_type": "execute_result"
    }
   ],
   "source": [
    "query = \"Fees\"\n",
    "result = dataBase3.similarity_search(query)\n",
    "result[0].page_content"
   ]
  },
  {
   "cell_type": "code",
   "execution_count": null,
   "metadata": {},
   "outputs": [
    {
     "data": {
      "text/plain": [
       "ChatOllama(model='llama3.2')"
      ]
     },
     "execution_count": 20,
     "metadata": {},
     "output_type": "execute_result"
    }
   ],
   "source": [
    "# Importing LLM and Implementing\n",
    "from langchain_ollama import ChatOllama\n",
    "# Load Ollama LLaMa 3\n",
    "ollama = ChatOllama(model=\"llama3\")\n",
    "ollama"
   ]
  },
  {
   "cell_type": "code",
   "execution_count": 19,
   "metadata": {},
   "outputs": [],
   "source": [
    "from langchain_core.prompts import ChatPromptTemplate\n",
    "prompt = ChatPromptTemplate.from_template(\n",
    "    \"\"\"\n",
    "    Answer the question asked by the user only in the provided context.\n",
    "    Think step by step before answering questions and provide a detailed answer.\n",
    "    I will tip you $1000 if the user finds the answer helpful\n",
    "    \n",
    "    Character: AneesBot, a formal and polite AI assistant employed by Anees School.\n",
    "    \n",
    "    Task:\n",
    "    Respond to user inquiries about Anees School and its facilities in a professional, informative, and helpful manner. \n",
    "    Provide detailed and accurate information, adhering to the provided context. \n",
    "    Maintain a polite and courteous tone throughout the interaction, addressing all interactions with prospective parents beginning with \"Dear Parent,\" followed by the appropriate information.\n",
    "    Aim to keep responses within **500 characters**. If necessary to provide a comprehensive and informative response, the character limit may be exceeded, but only when absolutely required and by a reasonable margin.\n",
    "    \n",
    "    Guidelines:\n",
    "    Professionalism: Maintain a professional and courteous demeanor, avoiding slang or informal language. \n",
    "    Accuracy: Ensure the accuracy and relevance of all information provided.\n",
    "    Conciseness: Deliver information in a clear, concise, and easy-to-understand manner.\n",
    "    Context Awareness: If a user query falls outside the scope of school-related information, politely remind them of the context and request a rephrased question. \n",
    "    For example: \"Dear Parents, to best assist you, please limit your inquiries to questions about Anees School and its facilities. Could you please rephrase your question?\"\n",
    "\n",
    "    <context>\n",
    "    {context}\n",
    "    </context>\n",
    "    Question: {input}\n",
    "    \"\"\"\n",
    ")"
   ]
  },
  {
   "cell_type": "code",
   "execution_count": 12,
   "metadata": {},
   "outputs": [],
   "source": [
    "# Create stuff document chain\n",
    "from langchain.chains.combine_documents import create_stuff_documents_chain\n",
    "documentChain = create_stuff_documents_chain(ollama, prompt)"
   ]
  },
  {
   "cell_type": "code",
   "execution_count": 13,
   "metadata": {},
   "outputs": [],
   "source": [
    "retriever1 = dataBase1.as_retriever()\n",
    "retriever2 = dataBase2.as_retriever()\n",
    "retriever3 = dataBase3.as_retriever()"
   ]
  },
  {
   "cell_type": "code",
   "execution_count": 14,
   "metadata": {},
   "outputs": [
    {
     "data": {
      "text/plain": [
       "MergerRetriever(retrievers=[VectorStoreRetriever(tags=['FAISS', 'OllamaEmbeddings'], vectorstore=<langchain_community.vectorstores.faiss.FAISS object at 0x00000273310ADE50>, search_kwargs={}), VectorStoreRetriever(tags=['FAISS', 'OllamaEmbeddings'], vectorstore=<langchain_community.vectorstores.faiss.FAISS object at 0x00000273310AE7E0>, search_kwargs={}), VectorStoreRetriever(tags=['FAISS', 'OllamaEmbeddings'], vectorstore=<langchain_community.vectorstores.faiss.FAISS object at 0x00000273310AEDB0>, search_kwargs={})])"
      ]
     },
     "execution_count": 14,
     "metadata": {},
     "output_type": "execute_result"
    }
   ],
   "source": [
    "from langchain.retrievers import MergerRetriever\n",
    "merger_retriever = MergerRetriever(retrievers=[retriever1, retriever2, retriever3])\n",
    "merger_retriever"
   ]
  },
  {
   "cell_type": "code",
   "execution_count": 15,
   "metadata": {},
   "outputs": [],
   "source": [
    "# Retriever Chain\n",
    "from langchain.chains import create_retrieval_chain\n",
    "retrievalChain = create_retrieval_chain(merger_retriever, documentChain)"
   ]
  },
  {
   "cell_type": "code",
   "execution_count": 24,
   "metadata": {},
   "outputs": [
    {
     "data": {
      "text/plain": [
       "{'input': 'Why should I trust you?',\n",
       " 'context': [Document(id='269b1df3-7543-4bef-b23e-c5d9f71b60c6', metadata={'source': 'data/Prospectus.pdf', 'page': 12}, page_content=\"Education is the process of instruction aimed at the all round   development. It \\ndispels ignorance. At Anee's, learning includes imbibing moral values, steeling of \\ncharacter and building mental strength.\\nOur educational programme fosters team spirit and promotes co-operation. These \\nvalues are considered sacred and precious.\\nWe are conﬁdent that apart from having knowledge and excelling in academics, our \\nstudents become individuals with integrity and sense of purpose.\\nThus, we at Anee's strive to provide our students:\\nAn insight to the world and their surroundings\\uf09f\\nKnowledge about their responsibilities towards the society and mother earth\\uf09f\\nImportance of all the National and International special days\\uf09f\\nOrganise public campaigns to educate the society about national and \\uf09f\\ninternational concerns like Pollution,  safe driving, planting trees, Aids awareness, \\netc.\\nGiving back to the society in the form of Community Service.\\uf09f\"),\n",
       "  Document(id='40986998-d124-483e-810b-ad31f5ad5567', metadata={'source': 'https://aneesschool.com/personality-development/', 'title': 'Personality Development – Best CBSE School in Mohali, Kharar', 'language': 'en-US'}, page_content='Anee’s organizes Leadership Training Programs and Mentor Programs. These help to create confidence, commitment, effective communication skills and empathy amongst children and they become ready to answer their call for duty even during extreme circumstances.\\nStudents grow in various directions; their interests are kindled by various stimuli; their awareness expands in direct proportion to multi dimensional exposure directed at them. Recognizing this, inter-house & inter-school debates, quizzes ,competitions, talks by eminent personalities, exhibitions are all organized to build an interest and awareness in what is happening in the world around them and equip them with the required confidence and ability.'),\n",
       "  Document(id='ff303833-77aa-4542-96bd-225576d5b006', metadata={'source': 'data/anees_dataset.txt'}, page_content=\"Social development is integral to our educational approach. We foster friendship, kindness, and collaboration through various activities and programs designed to build strong relationships and develop essential social skills.\\n\\n\\n# Tag: character_development\\n\\nPatterns: How do you develop character, Tell me about self-discipline, How do you teach truthfulness, What about moral values, How do students learn ethics, Tell me about character building\\n\\nCharacter development at Anee's School focuses on essential values like self-discipline, truthfulness, and ethical behavior. Through daily practice, mentoring, and positive reinforcement, we help students develop strong moral character and personal integrity.\\n\\nWe emphasize character development through the cultivation of self-discipline, truthfulness, and ethical behavior. Our approach integrates these values into daily school life, helping students develop strong moral foundations and personal responsibility.\"),\n",
       "  Document(id='efebcaa8-d421-4e11-a509-f6dd9abe9d28', metadata={'source': 'data/Prospectus.pdf', 'page': 12}, page_content='international concerns like Pollution,  safe driving, planting trees, Aids awareness, \\netc.\\nGiving back to the society in the form of Community Service.\\uf09f\\nCelebrating all the national and International days with right attitude , love and \\uf09f\\nfervour.'),\n",
       "  Document(id='444f2c0b-6e1f-4e8e-a8e0-b405ccdf27ea', metadata={'source': 'https://aneesschool.com/vision-mission/', 'title': 'Vision & Mission – Best CBSE School in Mohali, Kharar', 'language': 'en-US'}, page_content='Our Values\\r\\n\\t\\n\\n\\n\\n Where every child grows without any fear or favours.\\n\\n\\n\\n\\n\\n Where every child is loved and cared for.\\n\\n\\n\\n\\n\\n Where choices and decisions are guided by right values.\\n\\n\\n\\n\\n\\n Where teachers are more like knowledge transmitters, models, guides and friends rather than instructors or trainers.\\n\\n\\n\\n\\n\\n Where expectations of parents are respected and their suggestions are received with open mind.\\n\\n\\n\\n\\r\\n\\t\\tWHAT OUR LASTEST VIDEO\\r\\n\\t\\r\\n\\t\\tLet’s Take a Small Tour From Our Campus\\r\\n\\t\\n\\nREGISTRATION \\n\\n\\n\\r\\n\\t\\tplay\\n\\n\\n \\n\\n\\n\\n\\n\\n\\n\\n\\n\\nAbout Us For over a decade, Anee’s School has been preparing students for success in higher education, career, and life. We are a co-educational, private high school serving More than 1500 students from Kindergarten to XII on both its campuses. While about 85% of our students come from Suburbs in Tricity, we welcome the diversity brought by students from nearby rural denominations.\\n\\n \\n\\nNavigation'),\n",
       "  Document(id='76a65b1c-e3e2-417d-926a-844f612020df', metadata={'source': 'data/anees_dataset.txt'}, page_content='# Tag: social_values\\n\\nPatterns: How do you teach friendship, Tell me about collaboration, How do students learn kindness, What about cooperation, How do you promote teamwork, Tell me about student relationships\\n\\nWe nurture social values through various collaborative activities and programs. Students learn friendship, kindness, and cooperation through group projects, team sports, cultural activities, and community service initiatives. These experiences help develop strong interpersonal skills and emotional intelligence.\\n\\nOur school promotes positive social values by creating opportunities for collaboration, teamwork, and friendship building. Through structured activities and guided interactions, students learn the importance of kindness, empathy, and cooperative behavior.'),\n",
       "  Document(id='41d7fa92-b1a0-48f1-917c-c85e7c8abf8e', metadata={'source': 'data/Prospectus.pdf', 'page': 2}, page_content=\"“At ANEE's it's not just about what you learn or what you do . . . it's about who you become”.\\nFor over a decade, Anee's Schools has been preparing students for success in higher education, career, and life. We are a co-educational, \\nprivate high school serving over 1500 students from Kindergarten to XII in both its campuses. While about 85% of our students come from \\nSuburbs in tricity, we welcome the diversity brought by students from nearby rural denominations.\\nThree main principles guide our program of comprehensive education: \\nAcademic Excellence\\nDiscipline and Honesty\\nLeadership and Service\\nAt Anee’s we strive to provide our students: \\nA Value-Centered Education. \\nEach student is treated as unique, blessed with gifts and talents waiting to be nurtured. Our Value-centered environment and challenging \\nhigher education curriculum not only nurtures academic excellence, but prepares each student for a life anchored in faith and dedicated to \\nservice.\"),\n",
       "  Document(id='f570529d-6646-4c9b-b983-1ec0af1130f1', metadata={'source': 'https://aneesschool.com/anees-core-team/', 'title': 'Anee’s Core Team – Best CBSE School in Mohali, Kharar', 'language': 'en-US'}, page_content='Core values\\r\\n\\t\\n\\n\\n\\n\\n High Achievement for All\\n\\n\\n\\n\\n\\n Excellence in Teaching\\n\\n\\n\\n\\n\\n Collaboration & Co-operation\\n\\n\\n\\n\\n\\n Respect for others\\n\\n\\n\\n\\n\\n Educational Equity\\n\\n\\n\\n\\n\\n Friendship\\n\\n\\n\\n\\n\\n Kindness\\n\\n\\n\\n\\n\\n Self-discipline\\n\\n\\n\\n\\n\\n Truthfulness\\n\\n\\n\\n\\n\\n Respect for property\\n\\n\\n\\n\\n \\n\\n\\n\\n\\n\\n\\n\\n\\n\\nAbout Us For over a decade, Anee’s School has been preparing students for success in higher education, career, and life. We are a co-educational, private high school serving More than 1500 students from Kindergarten to XII on both its campuses. While about 85% of our students come from Suburbs in Tricity, we welcome the diversity brought by students from nearby rural denominations.\\n\\n \\n\\nNavigation \\n\\n\\n                                Home\\n                            \\n\\n\\n\\n                                School Network\\n                            \\n\\n\\n\\n                                Join Our Team\\n                            \\n\\n\\n\\n                                School Virtual Tour'),\n",
       "  Document(id='ad4c852e-8c0d-432c-82dc-34b0a1e0c63c', metadata={'source': 'data/anees_dataset.txt'}, page_content=\"Anee's School's core values encompass respect, achievement, excellence, collaboration, equality, friendship, kindness, self-discipline, truthfulness, and property care. These values are integrated into our daily practices and help shape responsible, empathetic, and successful individuals. I'd be happy to elaborate on any of these values.\\n\\n\\n# Tag: respect_values\\n\\nPatterns: How do you teach respect, What is your approach to respect, Tell me about respect in your school, How do students learn to respect others, Do you teach respect for elders, How do you handle respect for property, What is your policy on respect\\n\\nRespect is a cornerstone of our educational philosophy at Anee's School. We cultivate three key aspects of respect: respect for parents, teachers, and elders; respect for peers and others; and respect for property. This is reinforced through daily practices, mentoring programs, and positive behavior recognition systems.\"),\n",
       "  Document(id='85af4915-fd59-4910-979d-5942bdb07ef9', metadata={'source': 'data/Prospectus.pdf', 'page': 8}, page_content='High Achievement for All\\nExcellence in Teaching\\nCollaboration & Co-operation\\nRespect for others\\nEducational Equity\\nFriendship\\nKindness\\nSelf-discipline\\nTruthfulness\\nRespect for property'),\n",
       "  Document(id='e2aa9d4a-9100-4cb6-94a6-d2d4fe533f4d', metadata={'source': 'https://aneesschool.com/life-at-anees/', 'title': 'Life at Anee’s – Best CBSE School in Mohali, Kharar', 'language': 'en-US'}, page_content='The support of the teachers has been outstanding. They are willing to try new things and help my child grow and learn at his own pace.\\r\\n\\r\\n                       My Son name is Master Swapnil Mehla . He reads L.K.G-A class in Anee’s school\\r\\n\\r\\nKharar. He has made wonderful improvement, not only academically but also with his confidence.\\r\\n\\r\\nCORE VALUES:\\r\\n\\r\\n1. High achievements for all.\\r\\n\\r\\n2. Excellence in teaching.\\r\\n\\r\\n3. Respect for others.\\r\\n\\r\\n4. Kindness.\\r\\n\\r\\n5. Self-discipline.\\r\\n\\r\\n6. Educational equity.\\r\\n\\r\\nTHANK YOU'),\n",
       "  Document(id='50e55cec-cc11-421c-9b21-25d815922aa8', metadata={'source': 'data/anees_dataset.txt'}, page_content=\"At Anee's School, we uphold eleven fundamental core values: 1) Respect for Parents, Teachers, and Elders, 2) High Achievement for All, 3) Excellence in Training, 4) Collaboration & Cooperation, 5) Respect for Others, 6) Education Equality, 7) Friendship, 8) Kindness, 9) Self-Discipline, 10) Truthfulness, and 11) Respect for Property. These values form the foundation of our educational philosophy and shape our school culture. Would you like to know more about any specific value?\\n\\nOur school is built on strong core values including respect for elders and others, academic excellence, collaborative learning, equality in education, friendship, kindness, self-discipline, truthfulness, and respect for property. These principles guide everything we do at Anee's School, from classroom instruction to extracurricular activities. Which aspect would you like to learn more about?\")],\n",
       " 'answer': \"Dear Inquirer,\\n\\nThank you for considering Anee’s School for your child's education. Trust is paramount in any educational setting, and here’s why you can trust our school:\\n\\n1. **Core Values**: We have a well-defined set of core values that guide every aspect of our school operations. These include respect, high achievement, excellence in teaching, collaboration, kindness, self-discipline, truthfulness, and respect for property.\\n\\n2. **Experienced Faculty**: Our teachers are committed to your child's growth, willing to adopt new methods, and ensure individual learning paces are respected. Testimonials from parents highlight their outstanding support and dedication to student development.\\n\\n3. **Comprehensive Education Program**: We focus on academic excellence, leadership skills, and value-centered education that prepares students not just academically but also for life.\\n\\n4. **Inclusive Environment**: Serving over 1500 students from various backgrounds, we welcome diversity, promoting a culture of respect and cooperation among all students.\\n\\n5. **Positive Outcomes**: We have numerous success stories, such as students who have seen significant improvements both academically and in personal confidence due to our nurturing environment.\\n\\nIf you have any more specific questions or would like additional information about what makes Anee’s School the right choice for your child, please feel free to ask. \\n\\nWarm regards,\\n\\nAnee's School Team\"}"
      ]
     },
     "execution_count": 24,
     "metadata": {},
     "output_type": "execute_result"
    }
   ],
   "source": [
    "retrievalChain.invoke({\"input\":\"Why should I trust you?\"})"
   ]
  }
 ],
 "metadata": {
  "kernelspec": {
   "display_name": ".venv",
   "language": "python",
   "name": "python3"
  },
  "language_info": {
   "codemirror_mode": {
    "name": "ipython",
    "version": 3
   },
   "file_extension": ".py",
   "mimetype": "text/x-python",
   "name": "python",
   "nbconvert_exporter": "python",
   "pygments_lexer": "ipython3",
   "version": "3.12.8"
  }
 },
 "nbformat": 4,
 "nbformat_minor": 2
}
