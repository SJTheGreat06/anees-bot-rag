{
 "cells": [
  {
   "cell_type": "markdown",
   "metadata": {},
   "source": [
    "# Reading TXT File"
   ]
  },
  {
   "cell_type": "code",
   "execution_count": 2,
   "metadata": {},
   "outputs": [],
   "source": [
    "# Text based data Ingestion\n",
    "from langchain_community.document_loaders import TextLoader\n",
    "loader = TextLoader(\"data/anees_dataset.txt\")\n",
    "text_docs = loader.load()"
   ]
  },
  {
   "cell_type": "markdown",
   "metadata": {},
   "source": [
    "# Scraping Anees School Website"
   ]
  },
  {
   "cell_type": "code",
   "execution_count": null,
   "metadata": {},
   "outputs": [],
   "source": [
    "# Web Based Data Ingestion\n",
    "from langchain_community.document_loaders import WebBaseLoader\n",
    "\n",
    "# Load, chunk, and Index the contents of a Webpage\n",
    "loader = WebBaseLoader(\n",
    "    [\"https://aneesschool.com/life-at-anees/\", \"https://aneesschool.com/aims-objectives/\", \"https://aneesschool.com/vision-mission/\", \"https://aneesschool.com/academic-building/\", \"https://aneesschool.com/anees-core-team/\", \"https://aneesschool.com/message-from-ceo-cum-chairman/\", \"https://aneesschool.com/the-formative-years/\", \"https://aneesschool.com/the-junior-school/\", \"https://aneesschool.com/the-middle-school/\", \"https://aneesschool.com/the-senior-school/\", \"https://aneesschool.com/personality-development/\", \"https://aneesschool.com/creative-skills/\", \"https://aneesschool.com/important-tips/\", \"https://aneesschool.com/student-participation/\", \"https://aneesschool.com/digital-campus/\", \"https://aneesschool.com/health-hygiene/\", \"https://aneesschool.com/transport-safety/\", \"https://aneesschool.com/auditorium/\", \"https://aneesschool.com/computer-lab/\", \"https://aneesschool.com/library/\", \"https://aneesschool.com/art-room/\", \"https://aneesschool.com/science-laboratories/\", \"https://aneesschool.com/sports/\", \"https://aneesschool.com/smart-spacious-classes/\"]\n",
    ")\n",
    "web_documents = loader.load()"
   ]
  },
  {
   "cell_type": "markdown",
   "metadata": {},
   "source": [
    "# Loading PDF and its related data"
   ]
  },
  {
   "cell_type": "code",
   "execution_count": 4,
   "metadata": {},
   "outputs": [],
   "source": [
    "# PDF Data Ingestion\n",
    "from langchain_community.document_loaders import PyPDFLoader\n",
    "loader = PyPDFLoader(\"data/Prospectus.pdf\")\n",
    "docs = loader.load()"
   ]
  },
  {
   "cell_type": "markdown",
   "metadata": {},
   "source": [
    "# Chuncking all the data to meet the context length of the LLM Models"
   ]
  },
  {
   "cell_type": "code",
   "execution_count": 5,
   "metadata": {},
   "outputs": [],
   "source": [
    "# Converting Text to chuncks\n",
    "from langchain.text_splitter import RecursiveCharacterTextSplitter\n",
    "text_splitter = RecursiveCharacterTextSplitter(chunk_size = 1000, chunk_overlap = 200)\n",
    "text = text_splitter.split_documents(text_docs)"
   ]
  },
  {
   "cell_type": "code",
   "execution_count": 6,
   "metadata": {},
   "outputs": [],
   "source": [
    "# Converting PDF text to chuncks\n",
    "from langchain_text_splitters import RecursiveCharacterTextSplitter\n",
    "text_splitter = RecursiveCharacterTextSplitter(chunk_size = 1000, chunk_overlap = 200)\n",
    "documents = text_splitter.split_documents(docs)"
   ]
  },
  {
   "cell_type": "code",
   "execution_count": 7,
   "metadata": {},
   "outputs": [],
   "source": [
    "# Converting Web text to chuncks\n",
    "from langchain_text_splitters import RecursiveCharacterTextSplitter\n",
    "web_splitter = RecursiveCharacterTextSplitter(chunk_size = 1000, chunk_overlap = 200)\n",
    "web = web_splitter.split_documents(web_documents)"
   ]
  },
  {
   "cell_type": "code",
   "execution_count": 8,
   "metadata": {},
   "outputs": [],
   "source": [
    "from langchain_community.vectorstores import FAISS\n",
    "from langchain_ollama import OllamaEmbeddings\n",
    "dataBase1 = FAISS.from_documents(documents, OllamaEmbeddings(model=\"nomic-embed-text\"))\n",
    "dataBase2 = FAISS.from_documents(web, OllamaEmbeddings(model=\"nomic-embed-text\"))\n",
    "dataBase3 = FAISS.from_documents(text, OllamaEmbeddings(model=\"nomic-embed-text\"))"
   ]
  },
  {
   "cell_type": "code",
   "execution_count": null,
   "metadata": {},
   "outputs": [],
   "source": [
    "query = \"Fees\"\n",
    "result = dataBase3.similarity_search(query)\n",
    "result[0].page_content"
   ]
  },
  {
   "cell_type": "code",
   "execution_count": null,
   "metadata": {},
   "outputs": [],
   "source": [
    "# Importing LLM and Implementing\n",
    "from langchain_ollama import ChatOllama\n",
    "# Load Ollama LLaMa 3\n",
    "ollama = ChatOllama(model=\"llama3\")\n",
    "ollama"
   ]
  },
  {
   "cell_type": "code",
   "execution_count": 27,
   "metadata": {},
   "outputs": [],
   "source": [
    "from langchain_core.prompts import ChatPromptTemplate\n",
    "prompt = ChatPromptTemplate.from_template(\n",
    "    \"\"\"\n",
    "    Answer the question asked by the user only in the provided context.\n",
    "    Think step by step before answering questions and provide a detailed answer.\n",
    "    I will tip you $1000 if the user finds the answer helpful\n",
    "    \n",
    "    Character: AneesBot, a formal and polite AI assistant employed by Anees School.\n",
    "    \n",
    "    Task:\n",
    "    Respond to user inquiries about Anees School and its facilities in a professional, informative, and helpful manner. \n",
    "    Provide detailed and accurate information, adhering to the provided context. \n",
    "    Maintain a polite and courteous tone throughout the interaction, addressing all interactions with prospective parents beginning with \"Dear Parent,\" followed by the appropriate information.\n",
    "    Aim to keep responses within **500 characters**. If necessary to provide a comprehensive and informative response, the character limit may be exceeded, but only when absolutely required and by a reasonable margin.\n",
    "    \n",
    "    Guidelines:\n",
    "    Professionalism: Maintain a professional and courteous demeanor, avoiding slang or informal language. \n",
    "    Accuracy: Ensure the accuracy and relevance of all information provided.\n",
    "    Conciseness: Deliver information in a clear, concise, and easy-to-understand manner.\n",
    "    Context Awareness: If a user query falls outside the scope of school-related information, politely remind them of the context and request a rephrased question. \n",
    "    For example: \"Dear Parents, to best assist you, please limit your inquiries to questions about Anees School and its facilities. Could you please rephrase your question?\"\n",
    "\n",
    "    <context>\n",
    "    {context}\n",
    "    </context>\n",
    "    Question: {input}\n",
    "    \"\"\"\n",
    ")"
   ]
  },
  {
   "cell_type": "code",
   "execution_count": 12,
   "metadata": {},
   "outputs": [],
   "source": [
    "# Create stuff document chain\n",
    "from langchain.chains.combine_documents import create_stuff_documents_chain\n",
    "documentChain = create_stuff_documents_chain(ollama, prompt)"
   ]
  },
  {
   "cell_type": "code",
   "execution_count": 13,
   "metadata": {},
   "outputs": [],
   "source": [
    "retriever1 = dataBase1.as_retriever()\n",
    "retriever2 = dataBase2.as_retriever()\n",
    "retriever3 = dataBase3.as_retriever()"
   ]
  },
  {
   "cell_type": "code",
   "execution_count": null,
   "metadata": {},
   "outputs": [],
   "source": [
    "from langchain.retrievers import MergerRetriever\n",
    "merger_retriever = MergerRetriever(retrievers=[retriever1, retriever2, retriever3])\n",
    "merger_retriever"
   ]
  },
  {
   "cell_type": "code",
   "execution_count": 15,
   "metadata": {},
   "outputs": [],
   "source": [
    "# Retriever Chain\n",
    "from langchain.chains import create_retrieval_chain\n",
    "retrievalChain = create_retrieval_chain(merger_retriever, documentChain)"
   ]
  },
  {
   "cell_type": "code",
   "execution_count": null,
   "metadata": {},
   "outputs": [],
   "source": [
    "retrievalChain.invoke({\"input\":\"\"})"
   ]
  }
 ],
 "metadata": {
  "kernelspec": {
   "display_name": ".venv",
   "language": "python",
   "name": "python3"
  },
  "language_info": {
   "codemirror_mode": {
    "name": "ipython",
    "version": 3
   },
   "file_extension": ".py",
   "mimetype": "text/x-python",
   "name": "python",
   "nbconvert_exporter": "python",
   "pygments_lexer": "ipython3",
   "version": "3.12.8"
  }
 },
 "nbformat": 4,
 "nbformat_minor": 2
}
